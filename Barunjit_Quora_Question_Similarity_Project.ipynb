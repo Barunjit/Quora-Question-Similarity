{
 "cells": [
  {
   "cell_type": "markdown",
   "metadata": {},
   "source": [
    "# Barunjit Banerjee"
   ]
  },
  {
   "cell_type": "markdown",
   "metadata": {},
   "source": [
    "# Quora Question Similarity Project\n",
    "\n",
    "This project is about predicting whether quora can treat a given question pair to be semantically same. This will\n",
    "help them in merging the similar questions and thus reducing confusion and redundancy. "
   ]
  },
  {
   "cell_type": "markdown",
   "metadata": {},
   "source": [
    "# Importing Libraries"
   ]
  },
  {
   "cell_type": "code",
   "execution_count": 177,
   "metadata": {},
   "outputs": [],
   "source": [
    "import pandas as pd\n",
    "import pandas as pd\n",
    "import numpy as np\n",
    "import nltk\n",
    "from nltk.corpus import stopwords\n",
    "from nltk.stem import SnowballStemmer\n",
    "import re\n",
    "from gensim import utils\n",
    "from gensim.models.doc2vec import LabeledSentence\n",
    "from gensim.models.doc2vec import TaggedDocument\n",
    "from gensim.models import Doc2Vec\n",
    "from sklearn.metrics.pairwise import cosine_similarity\n",
    "from sklearn.metrics import accuracy_score\n",
    "from nltk.tokenize import word_tokenize\n",
    "from string import punctuation\n",
    "from sklearn.metrics import jaccard_similarity_score\n",
    "from sklearn.feature_extraction.text import TfidfVectorizer\n",
    "#stop_words = stopwords.words('english')"
   ]
  },
  {
   "cell_type": "markdown",
   "metadata": {},
   "source": [
    "# Importing Stopwords"
   ]
  },
  {
   "cell_type": "code",
   "execution_count": 178,
   "metadata": {},
   "outputs": [],
   "source": [
    "stop_words = pd.read_csv('stopwords.txt')\n",
    "stop_words = list(stop_words['x'])"
   ]
  },
  {
   "cell_type": "markdown",
   "metadata": {},
   "source": [
    "# Importing The Data Set"
   ]
  },
  {
   "cell_type": "code",
   "execution_count": 181,
   "metadata": {},
   "outputs": [],
   "source": [
    "# Import Data\n",
    "dfo=pd.read_csv(\"tpair_train.csv\")\n",
    " \n",
    "# Check for null values\n",
    "dfo[dfo.isnull().any(axis=1)]\n",
    " \n",
    "# Drop rows with null Values\n",
    "dfo.drop(dfo[dfo.isnull().any(axis=1)].index,inplace=True)"
   ]
  },
  {
   "cell_type": "markdown",
   "metadata": {},
   "source": [
    "# Generating a Sample From the Data Set"
   ]
  },
  {
   "cell_type": "code",
   "execution_count": 182,
   "metadata": {},
   "outputs": [
    {
     "data": {
      "text/html": [
       "<div>\n",
       "<style scoped>\n",
       "    .dataframe tbody tr th:only-of-type {\n",
       "        vertical-align: middle;\n",
       "    }\n",
       "\n",
       "    .dataframe tbody tr th {\n",
       "        vertical-align: top;\n",
       "    }\n",
       "\n",
       "    .dataframe thead th {\n",
       "        text-align: right;\n",
       "    }\n",
       "</style>\n",
       "<table border=\"1\" class=\"dataframe\">\n",
       "  <thead>\n",
       "    <tr style=\"text-align: right;\">\n",
       "      <th></th>\n",
       "      <th>index</th>\n",
       "      <th>id</th>\n",
       "      <th>qid1</th>\n",
       "      <th>qid2</th>\n",
       "      <th>question1</th>\n",
       "      <th>question2</th>\n",
       "      <th>is_duplicate</th>\n",
       "    </tr>\n",
       "  </thead>\n",
       "  <tbody>\n",
       "    <tr>\n",
       "      <th>0</th>\n",
       "      <td>402502</td>\n",
       "      <td>402502</td>\n",
       "      <td>122648</td>\n",
       "      <td>535990</td>\n",
       "      <td>Is \"G\" based on real events?</td>\n",
       "      <td>Is \"Enough\" based on real event?</td>\n",
       "      <td>0</td>\n",
       "    </tr>\n",
       "    <tr>\n",
       "      <th>1</th>\n",
       "      <td>187257</td>\n",
       "      <td>187257</td>\n",
       "      <td>285418</td>\n",
       "      <td>285419</td>\n",
       "      <td>How did movies like Happy New Year earn 300 cr...</td>\n",
       "      <td>How do senseless movies like DILWALE or HAPPY ...</td>\n",
       "      <td>1</td>\n",
       "    </tr>\n",
       "    <tr>\n",
       "      <th>2</th>\n",
       "      <td>29381</td>\n",
       "      <td>29381</td>\n",
       "      <td>54364</td>\n",
       "      <td>54365</td>\n",
       "      <td>What's the best way to tell my crush I like him?</td>\n",
       "      <td>How do I tell a girl I like her?</td>\n",
       "      <td>0</td>\n",
       "    </tr>\n",
       "    <tr>\n",
       "      <th>3</th>\n",
       "      <td>24194</td>\n",
       "      <td>24194</td>\n",
       "      <td>45236</td>\n",
       "      <td>45237</td>\n",
       "      <td>If you roll a fair six-sided die and a fair fo...</td>\n",
       "      <td>If you roll a fair six-sided die and a fair fo...</td>\n",
       "      <td>0</td>\n",
       "    </tr>\n",
       "    <tr>\n",
       "      <th>4</th>\n",
       "      <td>291941</td>\n",
       "      <td>291941</td>\n",
       "      <td>413461</td>\n",
       "      <td>413462</td>\n",
       "      <td>Can anyone give me list of the scams by Congre...</td>\n",
       "      <td>How do I get total police station list of india?</td>\n",
       "      <td>0</td>\n",
       "    </tr>\n",
       "  </tbody>\n",
       "</table>\n",
       "</div>"
      ],
      "text/plain": [
       "    index      id    qid1    qid2  \\\n",
       "0  402502  402502  122648  535990   \n",
       "1  187257  187257  285418  285419   \n",
       "2   29381   29381   54364   54365   \n",
       "3   24194   24194   45236   45237   \n",
       "4  291941  291941  413461  413462   \n",
       "\n",
       "                                           question1  \\\n",
       "0                       Is \"G\" based on real events?   \n",
       "1  How did movies like Happy New Year earn 300 cr...   \n",
       "2   What's the best way to tell my crush I like him?   \n",
       "3  If you roll a fair six-sided die and a fair fo...   \n",
       "4  Can anyone give me list of the scams by Congre...   \n",
       "\n",
       "                                           question2  is_duplicate  \n",
       "0                   Is \"Enough\" based on real event?             0  \n",
       "1  How do senseless movies like DILWALE or HAPPY ...             1  \n",
       "2                   How do I tell a girl I like her?             0  \n",
       "3  If you roll a fair six-sided die and a fair fo...             0  \n",
       "4   How do I get total police station list of india?             0  "
      ]
     },
     "execution_count": 182,
     "metadata": {},
     "output_type": "execute_result"
    }
   ],
   "source": [
    "df = dfo.sample(frac = 0.5, random_state=1)\n",
    "df = df.reset_index()\n",
    "df.head()"
   ]
  },
  {
   "cell_type": "code",
   "execution_count": 183,
   "metadata": {},
   "outputs": [
    {
     "data": {
      "text/plain": [
       "(202144, 7)"
      ]
     },
     "execution_count": 183,
     "metadata": {},
     "output_type": "execute_result"
    }
   ],
   "source": [
    "df.shape"
   ]
  },
  {
   "cell_type": "code",
   "execution_count": 185,
   "metadata": {},
   "outputs": [
    {
     "name": "stdout",
     "output_type": "stream",
     "text": [
      "0                               Is G based real events\n",
      "1       How movies like Happy New Year earn 300 crores\n",
      "2                      What best way tell crush I like\n",
      "3    If roll fair sided die fair sided die probabil...\n",
      "4    Can give list scams Congress government India ...\n",
      "Name: question1, dtype: object\n",
      "0                               Is G based real events\n",
      "1       How movies like Happy New Year earn 300 crores\n",
      "2                      What best way tell crush I like\n",
      "3    If roll fair sided die fair sided die probabil...\n",
      "4    Can give list scams Congress government India ...\n",
      "Name: question1, dtype: object\n"
     ]
    }
   ],
   "source": [
    "print(df.question1.head())\n",
    "print(df.question1.head())"
   ]
  },
  {
   "cell_type": "code",
   "execution_count": 186,
   "metadata": {},
   "outputs": [
    {
     "data": {
      "text/html": [
       "<div>\n",
       "<style scoped>\n",
       "    .dataframe tbody tr th:only-of-type {\n",
       "        vertical-align: middle;\n",
       "    }\n",
       "\n",
       "    .dataframe tbody tr th {\n",
       "        vertical-align: top;\n",
       "    }\n",
       "\n",
       "    .dataframe thead th {\n",
       "        text-align: right;\n",
       "    }\n",
       "</style>\n",
       "<table border=\"1\" class=\"dataframe\">\n",
       "  <thead>\n",
       "    <tr style=\"text-align: right;\">\n",
       "      <th></th>\n",
       "      <th>question</th>\n",
       "    </tr>\n",
       "  </thead>\n",
       "  <tbody>\n",
       "    <tr>\n",
       "      <th>0</th>\n",
       "      <td>What is the step by step guide to invest in sh...</td>\n",
       "    </tr>\n",
       "    <tr>\n",
       "      <th>1</th>\n",
       "      <td>What is the story of Kohinoor (Koh-i-Noor) Dia...</td>\n",
       "    </tr>\n",
       "    <tr>\n",
       "      <th>2</th>\n",
       "      <td>How can I increase the speed of my internet co...</td>\n",
       "    </tr>\n",
       "    <tr>\n",
       "      <th>3</th>\n",
       "      <td>Why am I mentally very lonely? How can I solve...</td>\n",
       "    </tr>\n",
       "    <tr>\n",
       "      <th>4</th>\n",
       "      <td>Which one dissolve in water quikly sugar, salt...</td>\n",
       "    </tr>\n",
       "  </tbody>\n",
       "</table>\n",
       "</div>"
      ],
      "text/plain": [
       "                                            question\n",
       "0  What is the step by step guide to invest in sh...\n",
       "1  What is the story of Kohinoor (Koh-i-Noor) Dia...\n",
       "2  How can I increase the speed of my internet co...\n",
       "3  Why am I mentally very lonely? How can I solve...\n",
       "4  Which one dissolve in water quikly sugar, salt..."
      ]
     },
     "execution_count": 186,
     "metadata": {},
     "output_type": "execute_result"
    }
   ],
   "source": [
    "qlist = dfo['question1'].append(dfo['question2'], ignore_index = True)\n",
    "qlist = pd.DataFrame(qlist, columns = ['question'])\n",
    "qlist.head()"
   ]
  },
  {
   "cell_type": "code",
   "execution_count": 187,
   "metadata": {},
   "outputs": [
    {
     "data": {
      "text/plain": [
       "(808574, 1)"
      ]
     },
     "execution_count": 187,
     "metadata": {},
     "output_type": "execute_result"
    }
   ],
   "source": [
    "qlist.shape"
   ]
  },
  {
   "cell_type": "markdown",
   "metadata": {},
   "source": [
    "# Function to Clean Text"
   ]
  },
  {
   "cell_type": "code",
   "execution_count": null,
   "metadata": {},
   "outputs": [],
   "source": [
    "def text_to_wordlist(text, remove_stop_words=True, stem_words=False):\n",
    "    # Clean the text, with the option to remove stop_words and to stem words.\n",
    "\n",
    "    # Clean the text\n",
    "    text = re.sub(r\"[^A-Za-z0-9]\", \" \", text)\n",
    "    text = re.sub(r\"what's\", \"\", text)\n",
    "    text = re.sub(r\"What's\", \"\", text)\n",
    "    text = re.sub(r\"\\'s\", \" \", text)\n",
    "    text = re.sub(r\"\\'ve\", \" have \", text)\n",
    "    text = re.sub(r\"can't\", \"cannot \", text)\n",
    "    text = re.sub(r\"n't\", \" not \", text)\n",
    "    text = re.sub(r\"I'm\", \"I am\", text)\n",
    "    text = re.sub(r\" m \", \" am \", text)\n",
    "    text = re.sub(r\"\\'re\", \" are \", text)\n",
    "    text = re.sub(r\"\\'d\", \" would \", text)\n",
    "    text = re.sub(r\"\\'ll\", \" will \", text)\n",
    "    text = re.sub(r\"60k\", \" 60000 \", text)\n",
    "    text = re.sub(r\" e g \", \" eg \", text)\n",
    "    text = re.sub(r\" b g \", \" bg \", text)\n",
    "    text = re.sub(r\"\\0s\", \"0\", text)\n",
    "    text = re.sub(r\" 9 11 \", \"911\", text)\n",
    "    text = re.sub(r\"e-mail\", \"email\", text)\n",
    "    text = re.sub(r\"\\s{2,}\", \" \", text)\n",
    "    text = re.sub(r\"quikly\", \"quickly\", text)\n",
    "    text = re.sub(r\" usa \", \" America \", text)\n",
    "    text = re.sub(r\" USA \", \" America \", text)\n",
    "    text = re.sub(r\" u s \", \" America \", text)\n",
    "    text = re.sub(r\" uk \", \" England \", text)\n",
    "    text = re.sub(r\" UK \", \" England \", text)\n",
    "    text = re.sub(r\"india\", \"India\", text)\n",
    "    text = re.sub(r\"switzerland\", \"Switzerland\", text)\n",
    "    text = re.sub(r\"china\", \"China\", text)\n",
    "    text = re.sub(r\"chinese\", \"Chinese\", text) \n",
    "    text = re.sub(r\"imrovement\", \"improvement\", text)\n",
    "    text = re.sub(r\"intially\", \"initially\", text)\n",
    "    text = re.sub(r\"quora\", \"Quora\", text)\n",
    "    text = re.sub(r\" dms \", \"direct messages \", text)  \n",
    "    text = re.sub(r\"demonitization\", \"demonetization\", text) \n",
    "    text = re.sub(r\"actived\", \"active\", text)\n",
    "    text = re.sub(r\"kms\", \" kilometers \", text)\n",
    "    text = re.sub(r\"KMs\", \" kilometers \", text)\n",
    "    text = re.sub(r\" cs \", \" computer science \", text) \n",
    "    text = re.sub(r\" upvotes \", \" up votes \", text)\n",
    "    text = re.sub(r\" iPhone \", \" phone \", text)\n",
    "    text = re.sub(r\"\\0rs \", \" rs \", text) \n",
    "    text = re.sub(r\"calender\", \"calendar\", text)\n",
    "    text = re.sub(r\"ios\", \"operating system\", text)\n",
    "    text = re.sub(r\"gps\", \"GPS\", text)\n",
    "    text = re.sub(r\"gst\", \"GST\", text)\n",
    "    text = re.sub(r\"programing\", \"programming\", text)\n",
    "    text = re.sub(r\"bestfriend\", \"best friend\", text)\n",
    "    text = re.sub(r\"dna\", \"DNA\", text)\n",
    "    text = re.sub(r\"III\", \"3\", text) \n",
    "    text = re.sub(r\"the US\", \"America\", text)\n",
    "    text = re.sub(r\"Astrology\", \"astrology\", text)\n",
    "    text = re.sub(r\"Method\", \"method\", text)\n",
    "    text = re.sub(r\"Find\", \"find\", text) \n",
    "    text = re.sub(r\"banglore\", \"Banglore\", text)\n",
    "    text = re.sub(r\" J K \", \" JK \", text)\n",
    "    \n",
    "    # Remove punctuation from text\n",
    "    text = ''.join([c for c in text if c not in punctuation])\n",
    "    \n",
    "    # Optionally, remove stop words\n",
    "    if remove_stop_words:\n",
    "        text = text.split()\n",
    "        text = [w for w in text if not w in stop_words]\n",
    "        text = \" \".join(text)\n",
    "    \n",
    "    # Optionally, shorten words to their stems\n",
    "    if stem_words:\n",
    "        text = text.split()\n",
    "        stemmer = SnowballStemmer('english')\n",
    "        stemmed_words = [stemmer.stem(word) for word in text]\n",
    "        text = \" \".join(stemmed_words)\n",
    "    \n",
    "    # Return a list of words\n",
    "    return(text)"
   ]
  },
  {
   "cell_type": "markdown",
   "metadata": {},
   "source": [
    "# Function to calculate the count share of common words"
   ]
  },
  {
   "cell_type": "code",
   "execution_count": 188,
   "metadata": {},
   "outputs": [],
   "source": [
    "def word_match_share(row):\n",
    "    \n",
    "    q1words = {}\n",
    "    q2words= {}\n",
    "    #q1 = text_to_wordlist(\"What is the step by step guide to invest in share market in india?\")\n",
    "    #q2 = text_to_wordlist(\"What is the step by step guide to invest in share market?\")\n",
    "    for word in str(row['question1']).lower().split():\n",
    "        if word not in stop_words:\n",
    "            q1words[word] = 1\n",
    "    #print(q1words)\n",
    "    for word in str(row['question2']).lower().split():\n",
    "        if word not in stop_words:\n",
    "            q2words[word] = 1\n",
    "    #print(q2words)\n",
    "    #print(len(q1words))\n",
    "    #print(len(q2words))\n",
    "    if len(q1words) == 0 or len(q2words) == 0:\n",
    "        # The computer-generated chaff includes a few questions that are nothing but stopwords\n",
    "        return 0\n",
    "    shared_words_in_q1 = [w for w in q1words.keys() if w in q2words]\n",
    "    #print(shared_words_in_q1)\n",
    "    shared_words_in_q2 = [w for w in q2words.keys() if w in q1words]\n",
    "    #print(shared_words_in_q2)\n",
    "    R = (len(shared_words_in_q1) + len(shared_words_in_q2))/(len(q1words) + len(q2words))\n",
    "    return R"
   ]
  },
  {
   "cell_type": "markdown",
   "metadata": {},
   "source": [
    "# Function to calculate the TFIDF share of common words"
   ]
  },
  {
   "cell_type": "code",
   "execution_count": 189,
   "metadata": {},
   "outputs": [],
   "source": [
    "def tfidf_word_match_share(row):\n",
    "    q1words = {}\n",
    "    q2words = {}\n",
    "    #row['question1'] = text_to_wordlist(row['question1'])\n",
    "    #row['question2'] = text_to_wordlist(row['question2'])\n",
    "    #q2 = text_to_wordlist(\"What is the step by step guide to invest in share market?\")\n",
    "\n",
    "    for word in str(row['question1']).lower().split():\n",
    "        if word not in stop_words:\n",
    "            q1words[word] = 1\n",
    "    #print(q1words)\n",
    "    for word in str(row['question2']).lower().split():\n",
    "        if word not in stop_words:\n",
    "            q2words[word] = 1\n",
    "    #print(q2words)\n",
    "    if len(q1words) == 0 or len(q2words) == 0:\n",
    "        # The computer-generated chaff includes a few questions that are nothing but stopwords\n",
    "        return 0\n",
    "\n",
    "    shared_weights = [rr[w] for w in q1words.keys() if w in q2words if w in tf.get_feature_names()] + [rr[w] for w in q2words.keys() if w in q1words if w in tf.get_feature_names()]\n",
    "    #print(shared_weights)\n",
    "    total_weights = [rr[w] for w in q1words if w in tf.get_feature_names()] + [rr[w] for w in q2words if w in tf.get_feature_names()]\n",
    "    #print(total_weights)\n",
    "    if np.sum(total_weights)!= 0:\n",
    "        R = np.sum(shared_weights) / np.sum(total_weights)\n",
    "        return(R)\n",
    "    else:\n",
    "        return 0"
   ]
  },
  {
   "cell_type": "markdown",
   "metadata": {},
   "source": [
    "# Cleaning the question pairs"
   ]
  },
  {
   "cell_type": "code",
   "execution_count": null,
   "metadata": {},
   "outputs": [],
   "source": [
    "df.question1 = df.question1.apply(text_to_wordlist,stem_words = False)\n",
    "df.question2 = df.question2.apply(text_to_wordlist,stem_words = False)"
   ]
  },
  {
   "cell_type": "markdown",
   "metadata": {},
   "source": [
    "# Corpus for vocabulary creation"
   ]
  },
  {
   "cell_type": "code",
   "execution_count": null,
   "metadata": {},
   "outputs": [],
   "source": [
    "qlist = dfo['question1'].append(dfo['question2'], ignore_index = True)\n",
    "qlist = pd.DataFrame(qlist, columns = ['question'])\n",
    "qlist.head()"
   ]
  },
  {
   "cell_type": "markdown",
   "metadata": {},
   "source": [
    "# Preparing the Tagged Data"
   ]
  },
  {
   "cell_type": "code",
   "execution_count": 190,
   "metadata": {},
   "outputs": [],
   "source": [
    "tagged_data = [TaggedDocument(words=word_tokenize(_d.lower()), tags=[str(i)]) for i, _d in enumerate(qlist.question)]"
   ]
  },
  {
   "cell_type": "markdown",
   "metadata": {},
   "source": [
    "# Training the doc2vec Model"
   ]
  },
  {
   "cell_type": "code",
   "execution_count": 191,
   "metadata": {},
   "outputs": [
    {
     "name": "stdout",
     "output_type": "stream",
     "text": [
      "iteration 0\n",
      "iteration 1\n",
      "iteration 2\n",
      "iteration 3\n",
      "iteration 4\n",
      "iteration 5\n",
      "iteration 6\n",
      "iteration 7\n",
      "iteration 8\n",
      "iteration 9\n",
      "iteration 10\n",
      "iteration 11\n",
      "iteration 12\n",
      "iteration 13\n",
      "iteration 14\n",
      "iteration 15\n",
      "iteration 16\n",
      "iteration 17\n",
      "iteration 18\n",
      "iteration 19\n",
      "Model Saved\n"
     ]
    }
   ],
   "source": [
    "max_epochs = 20\n",
    "vec_size = 300\n",
    "alpha = 0.025\n",
    "\n",
    "model = Doc2Vec(vector_size=vec_size,\n",
    "                alpha=alpha, \n",
    "                min_alpha=0.00025,\n",
    "                min_count=1,\n",
    "                dm =1)\n",
    "  \n",
    "model.build_vocab(tagged_data)\n",
    "\n",
    "for epoch in range(max_epochs):\n",
    "    print('iteration {0}'.format(epoch))\n",
    "    model.train(tagged_data,\n",
    "                total_examples=model.corpus_count,\n",
    "                epochs=model.epochs)\n",
    "    # decrease the learning rate\n",
    "    model.alpha -= 0.0002\n",
    "    # fix the learning rate, no decay\n",
    "    model.min_alpha = model.alpha\n",
    "\n",
    "model.save(\"d2v_0.05.model\")\n",
    "print(\"Model Saved\")"
   ]
  },
  {
   "cell_type": "code",
   "execution_count": 192,
   "metadata": {},
   "outputs": [],
   "source": [
    "model= Doc2Vec.load(\"d2v_0.05.model\")"
   ]
  },
  {
   "cell_type": "code",
   "execution_count": null,
   "metadata": {},
   "outputs": [],
   "source": []
  },
  {
   "cell_type": "markdown",
   "metadata": {},
   "source": [
    "# Calculating Different Similary Matrix Using Quetion Pair Embeddings"
   ]
  },
  {
   "cell_type": "code",
   "execution_count": 193,
   "metadata": {},
   "outputs": [
    {
     "name": "stdout",
     "output_type": "stream",
     "text": [
      "[ 0.80333608  0.75716186  0.22779022 ... -0.08221667  0.18314494\n",
      "  0.78266025]\n"
     ]
    }
   ],
   "source": [
    "from scipy import spatial\n",
    "from math import*\n",
    "from decimal import Decimal\n",
    "\n",
    "cosine_similarity = lambda x, y: 1 - spatial.distance.cosine(x, y)\n",
    "\n",
    "def euclidean_distance(x,y):\n",
    "    return sqrt(sum(pow(a-b,2) for a, b in zip(x, y)))\n",
    "\n",
    "def manhattan_distance(x,y):\n",
    "    return sum(abs(a-b) for a,b in zip(x,y))\n",
    "\n",
    "def nth_root(value, n_root):\n",
    "    root_value = 1/float(n_root)\n",
    "    return round (Decimal(value) ** Decimal(root_value),3)\n",
    " \n",
    "def minkowski_distance(x,y,p_value):\n",
    "    return nth_root(sum(pow(abs(a-b),p_value) for a,b in zip(x, y)),p_value)\n",
    "\n",
    "\n",
    "score = np.zeros(df.shape[0])\n",
    "escore = np.zeros(df.shape[0])\n",
    "mscore = np.zeros(df.shape[0])\n",
    "minscore = np.zeros(df.shape[0])\n",
    "\n",
    "for i in range(df.shape[0]):\n",
    "    q1 = model.infer_vector(word_tokenize(df.loc[:,'question1'][i]))\n",
    "    q2 = model.infer_vector(word_tokenize(df.loc[:,'question2'][i]))\n",
    "    #score[i] = cosine_similarity(model.infer_vector(word_tokenize(df.loc[:,'question1'][i])),model.infer_vector(word_tokenize(df.loc[:,'question2'][i])))\n",
    "    score[i] = cosine_similarity(q1,q2)\n",
    "    escore[i] = euclidean_distance(q1,q2)\n",
    "    mscore[i] = manhattan_distance(q1,q2)\n",
    "    minscore[i] = minkowski_distance(q1,q2,3)\n",
    "    \n",
    "print(score)"
   ]
  },
  {
   "cell_type": "code",
   "execution_count": 194,
   "metadata": {},
   "outputs": [
    {
     "data": {
      "text/html": [
       "<div>\n",
       "<style scoped>\n",
       "    .dataframe tbody tr th:only-of-type {\n",
       "        vertical-align: middle;\n",
       "    }\n",
       "\n",
       "    .dataframe tbody tr th {\n",
       "        vertical-align: top;\n",
       "    }\n",
       "\n",
       "    .dataframe thead th {\n",
       "        text-align: right;\n",
       "    }\n",
       "</style>\n",
       "<table border=\"1\" class=\"dataframe\">\n",
       "  <thead>\n",
       "    <tr style=\"text-align: right;\">\n",
       "      <th></th>\n",
       "      <th>index</th>\n",
       "      <th>id</th>\n",
       "      <th>qid1</th>\n",
       "      <th>qid2</th>\n",
       "      <th>question1</th>\n",
       "      <th>question2</th>\n",
       "      <th>is_duplicate</th>\n",
       "    </tr>\n",
       "  </thead>\n",
       "  <tbody>\n",
       "    <tr>\n",
       "      <th>0</th>\n",
       "      <td>402502</td>\n",
       "      <td>402502</td>\n",
       "      <td>122648</td>\n",
       "      <td>535990</td>\n",
       "      <td>Is G based real events</td>\n",
       "      <td>Is Enough based real event</td>\n",
       "      <td>0</td>\n",
       "    </tr>\n",
       "    <tr>\n",
       "      <th>1</th>\n",
       "      <td>187257</td>\n",
       "      <td>187257</td>\n",
       "      <td>285418</td>\n",
       "      <td>285419</td>\n",
       "      <td>How movies like Happy New Year earn 300 crores</td>\n",
       "      <td>How senseless movies like DILWALE HAPPY NEW YE...</td>\n",
       "      <td>1</td>\n",
       "    </tr>\n",
       "    <tr>\n",
       "      <th>2</th>\n",
       "      <td>29381</td>\n",
       "      <td>29381</td>\n",
       "      <td>54364</td>\n",
       "      <td>54365</td>\n",
       "      <td>What best way tell crush I like</td>\n",
       "      <td>How I tell girl I like</td>\n",
       "      <td>0</td>\n",
       "    </tr>\n",
       "    <tr>\n",
       "      <th>3</th>\n",
       "      <td>24194</td>\n",
       "      <td>24194</td>\n",
       "      <td>45236</td>\n",
       "      <td>45237</td>\n",
       "      <td>If roll fair sided die fair sided die probabil...</td>\n",
       "      <td>If roll fair sided die fair sided die probabil...</td>\n",
       "      <td>0</td>\n",
       "    </tr>\n",
       "    <tr>\n",
       "      <th>4</th>\n",
       "      <td>291941</td>\n",
       "      <td>291941</td>\n",
       "      <td>413461</td>\n",
       "      <td>413462</td>\n",
       "      <td>Can give list scams Congress government India ...</td>\n",
       "      <td>How I total police station list India</td>\n",
       "      <td>0</td>\n",
       "    </tr>\n",
       "  </tbody>\n",
       "</table>\n",
       "</div>"
      ],
      "text/plain": [
       "    index      id    qid1    qid2  \\\n",
       "0  402502  402502  122648  535990   \n",
       "1  187257  187257  285418  285419   \n",
       "2   29381   29381   54364   54365   \n",
       "3   24194   24194   45236   45237   \n",
       "4  291941  291941  413461  413462   \n",
       "\n",
       "                                           question1  \\\n",
       "0                             Is G based real events   \n",
       "1     How movies like Happy New Year earn 300 crores   \n",
       "2                    What best way tell crush I like   \n",
       "3  If roll fair sided die fair sided die probabil...   \n",
       "4  Can give list scams Congress government India ...   \n",
       "\n",
       "                                           question2  is_duplicate  \n",
       "0                         Is Enough based real event             0  \n",
       "1  How senseless movies like DILWALE HAPPY NEW YE...             1  \n",
       "2                             How I tell girl I like             0  \n",
       "3  If roll fair sided die fair sided die probabil...             0  \n",
       "4              How I total police station list India             0  "
      ]
     },
     "execution_count": 194,
     "metadata": {},
     "output_type": "execute_result"
    }
   ],
   "source": [
    "df.head()"
   ]
  },
  {
   "cell_type": "code",
   "execution_count": 195,
   "metadata": {},
   "outputs": [],
   "source": [
    "df['cosine_score'] = np.random.randn(df.shape[0])\n",
    "df['cosine_score'].update(pd.Series(score))"
   ]
  },
  {
   "cell_type": "code",
   "execution_count": 196,
   "metadata": {},
   "outputs": [],
   "source": [
    "df['euclidean_score'] = np.random.randn(df.shape[0])\n",
    "df['euclidean_score'].update(pd.Series(escore))"
   ]
  },
  {
   "cell_type": "code",
   "execution_count": 197,
   "metadata": {},
   "outputs": [],
   "source": [
    "df['manhattan_score'] = np.random.randn(df.shape[0])\n",
    "df['manhattan_score'].update(pd.Series(mscore))"
   ]
  },
  {
   "cell_type": "code",
   "execution_count": 198,
   "metadata": {},
   "outputs": [],
   "source": [
    "df['minkowski_score'] = np.random.randn(df.shape[0])\n",
    "df['minkowski_score'].update(pd.Series(minscore))"
   ]
  },
  {
   "cell_type": "code",
   "execution_count": 199,
   "metadata": {},
   "outputs": [
    {
     "data": {
      "text/html": [
       "<div>\n",
       "<style scoped>\n",
       "    .dataframe tbody tr th:only-of-type {\n",
       "        vertical-align: middle;\n",
       "    }\n",
       "\n",
       "    .dataframe tbody tr th {\n",
       "        vertical-align: top;\n",
       "    }\n",
       "\n",
       "    .dataframe thead th {\n",
       "        text-align: right;\n",
       "    }\n",
       "</style>\n",
       "<table border=\"1\" class=\"dataframe\">\n",
       "  <thead>\n",
       "    <tr style=\"text-align: right;\">\n",
       "      <th></th>\n",
       "      <th>index</th>\n",
       "      <th>id</th>\n",
       "      <th>qid1</th>\n",
       "      <th>qid2</th>\n",
       "      <th>question1</th>\n",
       "      <th>question2</th>\n",
       "      <th>is_duplicate</th>\n",
       "      <th>cosine_score</th>\n",
       "      <th>euclidean_score</th>\n",
       "      <th>manhattan_score</th>\n",
       "      <th>minkowski_score</th>\n",
       "    </tr>\n",
       "  </thead>\n",
       "  <tbody>\n",
       "    <tr>\n",
       "      <th>0</th>\n",
       "      <td>402502</td>\n",
       "      <td>402502</td>\n",
       "      <td>122648</td>\n",
       "      <td>535990</td>\n",
       "      <td>Is G based real events</td>\n",
       "      <td>Is Enough based real event</td>\n",
       "      <td>0</td>\n",
       "      <td>0.803336</td>\n",
       "      <td>0.854971</td>\n",
       "      <td>11.931236</td>\n",
       "      <td>0.386</td>\n",
       "    </tr>\n",
       "    <tr>\n",
       "      <th>1</th>\n",
       "      <td>187257</td>\n",
       "      <td>187257</td>\n",
       "      <td>285418</td>\n",
       "      <td>285419</td>\n",
       "      <td>How movies like Happy New Year earn 300 crores</td>\n",
       "      <td>How senseless movies like DILWALE HAPPY NEW YE...</td>\n",
       "      <td>1</td>\n",
       "      <td>0.757162</td>\n",
       "      <td>1.522827</td>\n",
       "      <td>21.093546</td>\n",
       "      <td>0.683</td>\n",
       "    </tr>\n",
       "    <tr>\n",
       "      <th>2</th>\n",
       "      <td>29381</td>\n",
       "      <td>29381</td>\n",
       "      <td>54364</td>\n",
       "      <td>54365</td>\n",
       "      <td>What best way tell crush I like</td>\n",
       "      <td>How I tell girl I like</td>\n",
       "      <td>0</td>\n",
       "      <td>0.227790</td>\n",
       "      <td>1.556836</td>\n",
       "      <td>21.561154</td>\n",
       "      <td>0.702</td>\n",
       "    </tr>\n",
       "    <tr>\n",
       "      <th>3</th>\n",
       "      <td>24194</td>\n",
       "      <td>24194</td>\n",
       "      <td>45236</td>\n",
       "      <td>45237</td>\n",
       "      <td>If roll fair sided die fair sided die probabil...</td>\n",
       "      <td>If roll fair sided die fair sided die probabil...</td>\n",
       "      <td>0</td>\n",
       "      <td>0.277687</td>\n",
       "      <td>2.516365</td>\n",
       "      <td>34.298244</td>\n",
       "      <td>1.153</td>\n",
       "    </tr>\n",
       "    <tr>\n",
       "      <th>4</th>\n",
       "      <td>291941</td>\n",
       "      <td>291941</td>\n",
       "      <td>413461</td>\n",
       "      <td>413462</td>\n",
       "      <td>Can give list scams Congress government India ...</td>\n",
       "      <td>How I total police station list India</td>\n",
       "      <td>0</td>\n",
       "      <td>0.384829</td>\n",
       "      <td>1.720771</td>\n",
       "      <td>24.520465</td>\n",
       "      <td>0.767</td>\n",
       "    </tr>\n",
       "  </tbody>\n",
       "</table>\n",
       "</div>"
      ],
      "text/plain": [
       "    index      id    qid1    qid2  \\\n",
       "0  402502  402502  122648  535990   \n",
       "1  187257  187257  285418  285419   \n",
       "2   29381   29381   54364   54365   \n",
       "3   24194   24194   45236   45237   \n",
       "4  291941  291941  413461  413462   \n",
       "\n",
       "                                           question1  \\\n",
       "0                             Is G based real events   \n",
       "1     How movies like Happy New Year earn 300 crores   \n",
       "2                    What best way tell crush I like   \n",
       "3  If roll fair sided die fair sided die probabil...   \n",
       "4  Can give list scams Congress government India ...   \n",
       "\n",
       "                                           question2  is_duplicate  \\\n",
       "0                         Is Enough based real event             0   \n",
       "1  How senseless movies like DILWALE HAPPY NEW YE...             1   \n",
       "2                             How I tell girl I like             0   \n",
       "3  If roll fair sided die fair sided die probabil...             0   \n",
       "4              How I total police station list India             0   \n",
       "\n",
       "   cosine_score  euclidean_score  manhattan_score  minkowski_score  \n",
       "0      0.803336         0.854971        11.931236            0.386  \n",
       "1      0.757162         1.522827        21.093546            0.683  \n",
       "2      0.227790         1.556836        21.561154            0.702  \n",
       "3      0.277687         2.516365        34.298244            1.153  \n",
       "4      0.384829         1.720771        24.520465            0.767  "
      ]
     },
     "execution_count": 199,
     "metadata": {},
     "output_type": "execute_result"
    }
   ],
   "source": [
    "df.head()"
   ]
  },
  {
   "cell_type": "code",
   "execution_count": 128,
   "metadata": {},
   "outputs": [],
   "source": [
    "df_jacard = df.copy()"
   ]
  },
  {
   "cell_type": "code",
   "execution_count": 129,
   "metadata": {},
   "outputs": [],
   "source": [
    "df_jacard['question1'] = df.question1.apply(text_to_wordlist,stem_words = True)\n",
    "df_jacard['question2'] = df.question2.apply(text_to_wordlist,stem_words = True)"
   ]
  },
  {
   "cell_type": "code",
   "execution_count": 130,
   "metadata": {},
   "outputs": [],
   "source": [
    "def get_jaccard_sim(str1, str2): \n",
    "    a = set(str1.split()) \n",
    "    b = set(str2.split())\n",
    "    c = a.intersection(b)\n",
    "    return float(len(c))/(len(a)+len(b)-len(c))"
   ]
  },
  {
   "cell_type": "code",
   "execution_count": 131,
   "metadata": {},
   "outputs": [],
   "source": [
    "jscore = np.zeros(df.shape[0])\n",
    "for i in range(df.shape[0]):\n",
    "    jscore[i] = get_jaccard_sim(df_jacard['question1'][i],df_jacard['question2'][i])"
   ]
  },
  {
   "cell_type": "code",
   "execution_count": 132,
   "metadata": {},
   "outputs": [],
   "source": [
    "df['jscore'] = np.random.randn(df.shape[0])\n",
    "df['jscore'].update(pd.Series(jscore))"
   ]
  },
  {
   "cell_type": "markdown",
   "metadata": {},
   "source": [
    "# Calculating the word share and TFIDF share for common words in the question pairs"
   ]
  },
  {
   "cell_type": "code",
   "execution_count": 201,
   "metadata": {},
   "outputs": [],
   "source": [
    "df['word_share_score'] = df.apply(word_match_share, axis =1 ,raw=True)"
   ]
  },
  {
   "cell_type": "code",
   "execution_count": 76,
   "metadata": {},
   "outputs": [],
   "source": [
    "tf = TfidfVectorizer() \n",
    "X = tf.fit(qlist['question'])\n",
    "X = X.transform(qlist['question'])\n",
    "#print(X)\n",
    "idf = tf.idf_\n",
    "rr = dict(zip(tf.get_feature_names(), idf))"
   ]
  },
  {
   "cell_type": "code",
   "execution_count": 77,
   "metadata": {},
   "outputs": [],
   "source": [
    "df['tfidf_score'] = df.apply(tfidf_word_match_share, axis =1 ,raw=True)"
   ]
  },
  {
   "cell_type": "code",
   "execution_count": 134,
   "metadata": {},
   "outputs": [
    {
     "data": {
      "text/html": [
       "<div>\n",
       "<style scoped>\n",
       "    .dataframe tbody tr th:only-of-type {\n",
       "        vertical-align: middle;\n",
       "    }\n",
       "\n",
       "    .dataframe tbody tr th {\n",
       "        vertical-align: top;\n",
       "    }\n",
       "\n",
       "    .dataframe thead th {\n",
       "        text-align: right;\n",
       "    }\n",
       "</style>\n",
       "<table border=\"1\" class=\"dataframe\">\n",
       "  <thead>\n",
       "    <tr style=\"text-align: right;\">\n",
       "      <th></th>\n",
       "      <th>index</th>\n",
       "      <th>id</th>\n",
       "      <th>qid1</th>\n",
       "      <th>qid2</th>\n",
       "      <th>question1</th>\n",
       "      <th>question2</th>\n",
       "      <th>is_duplicate</th>\n",
       "      <th>similarity_score</th>\n",
       "      <th>jscore</th>\n",
       "      <th>nscore</th>\n",
       "      <th>word_share_score</th>\n",
       "      <th>tfidf_score</th>\n",
       "      <th>esimilarity_score</th>\n",
       "      <th>cosine_score</th>\n",
       "      <th>euclidean_score</th>\n",
       "      <th>manhattan_score</th>\n",
       "      <th>minkowski_score</th>\n",
       "    </tr>\n",
       "  </thead>\n",
       "  <tbody>\n",
       "    <tr>\n",
       "      <th>0</th>\n",
       "      <td>402502</td>\n",
       "      <td>402502</td>\n",
       "      <td>122648</td>\n",
       "      <td>535990</td>\n",
       "      <td>Is G based real events</td>\n",
       "      <td>Is Enough based real event</td>\n",
       "      <td>0</td>\n",
       "      <td>0.777502</td>\n",
       "      <td>0.666667</td>\n",
       "      <td>0.000000</td>\n",
       "      <td>1.000000</td>\n",
       "      <td>1.000000</td>\n",
       "      <td>0.554536</td>\n",
       "      <td>0.777502</td>\n",
       "      <td>0.485446</td>\n",
       "      <td>6.927478</td>\n",
       "      <td>0.215</td>\n",
       "    </tr>\n",
       "    <tr>\n",
       "      <th>1</th>\n",
       "      <td>187257</td>\n",
       "      <td>187257</td>\n",
       "      <td>285418</td>\n",
       "      <td>285419</td>\n",
       "      <td>How movies like Happy New Year earn 300 crores</td>\n",
       "      <td>How senseless movies like DILWALE HAPPY NEW YE...</td>\n",
       "      <td>1</td>\n",
       "      <td>0.679922</td>\n",
       "      <td>0.571429</td>\n",
       "      <td>0.666667</td>\n",
       "      <td>0.700000</td>\n",
       "      <td>0.676519</td>\n",
       "      <td>0.731736</td>\n",
       "      <td>0.679922</td>\n",
       "      <td>0.923275</td>\n",
       "      <td>12.816620</td>\n",
       "      <td>0.417</td>\n",
       "    </tr>\n",
       "    <tr>\n",
       "      <th>2</th>\n",
       "      <td>29381</td>\n",
       "      <td>29381</td>\n",
       "      <td>54364</td>\n",
       "      <td>54365</td>\n",
       "      <td>What best way tell crush I like</td>\n",
       "      <td>How I tell girl I like</td>\n",
       "      <td>0</td>\n",
       "      <td>0.233090</td>\n",
       "      <td>0.333333</td>\n",
       "      <td>0.000000</td>\n",
       "      <td>0.500000</td>\n",
       "      <td>0.501632</td>\n",
       "      <td>0.979126</td>\n",
       "      <td>0.233090</td>\n",
       "      <td>0.983412</td>\n",
       "      <td>13.968207</td>\n",
       "      <td>0.435</td>\n",
       "    </tr>\n",
       "    <tr>\n",
       "      <th>3</th>\n",
       "      <td>24194</td>\n",
       "      <td>24194</td>\n",
       "      <td>45236</td>\n",
       "      <td>45237</td>\n",
       "      <td>If roll fair sided die fair sided die probabil...</td>\n",
       "      <td>If roll fair sided die fair sided die probabil...</td>\n",
       "      <td>0</td>\n",
       "      <td>0.747182</td>\n",
       "      <td>0.500000</td>\n",
       "      <td>1.000000</td>\n",
       "      <td>0.625000</td>\n",
       "      <td>0.669641</td>\n",
       "      <td>0.366140</td>\n",
       "      <td>0.747182</td>\n",
       "      <td>0.403413</td>\n",
       "      <td>5.630882</td>\n",
       "      <td>0.181</td>\n",
       "    </tr>\n",
       "    <tr>\n",
       "      <th>4</th>\n",
       "      <td>291941</td>\n",
       "      <td>291941</td>\n",
       "      <td>413461</td>\n",
       "      <td>413462</td>\n",
       "      <td>Can give list scams Congress government India ...</td>\n",
       "      <td>How I total police station list India</td>\n",
       "      <td>0</td>\n",
       "      <td>0.287008</td>\n",
       "      <td>0.214286</td>\n",
       "      <td>0.500000</td>\n",
       "      <td>0.428571</td>\n",
       "      <td>0.439360</td>\n",
       "      <td>0.706285</td>\n",
       "      <td>0.287008</td>\n",
       "      <td>0.884763</td>\n",
       "      <td>12.623972</td>\n",
       "      <td>0.395</td>\n",
       "    </tr>\n",
       "  </tbody>\n",
       "</table>\n",
       "</div>"
      ],
      "text/plain": [
       "    index      id    qid1    qid2  \\\n",
       "0  402502  402502  122648  535990   \n",
       "1  187257  187257  285418  285419   \n",
       "2   29381   29381   54364   54365   \n",
       "3   24194   24194   45236   45237   \n",
       "4  291941  291941  413461  413462   \n",
       "\n",
       "                                           question1  \\\n",
       "0                             Is G based real events   \n",
       "1     How movies like Happy New Year earn 300 crores   \n",
       "2                    What best way tell crush I like   \n",
       "3  If roll fair sided die fair sided die probabil...   \n",
       "4  Can give list scams Congress government India ...   \n",
       "\n",
       "                                           question2  is_duplicate  \\\n",
       "0                         Is Enough based real event             0   \n",
       "1  How senseless movies like DILWALE HAPPY NEW YE...             1   \n",
       "2                             How I tell girl I like             0   \n",
       "3  If roll fair sided die fair sided die probabil...             0   \n",
       "4              How I total police station list India             0   \n",
       "\n",
       "   similarity_score    jscore    nscore  word_share_score  tfidf_score  \\\n",
       "0          0.777502  0.666667  0.000000          1.000000     1.000000   \n",
       "1          0.679922  0.571429  0.666667          0.700000     0.676519   \n",
       "2          0.233090  0.333333  0.000000          0.500000     0.501632   \n",
       "3          0.747182  0.500000  1.000000          0.625000     0.669641   \n",
       "4          0.287008  0.214286  0.500000          0.428571     0.439360   \n",
       "\n",
       "   esimilarity_score  cosine_score  euclidean_score  manhattan_score  \\\n",
       "0           0.554536      0.777502         0.485446         6.927478   \n",
       "1           0.731736      0.679922         0.923275        12.816620   \n",
       "2           0.979126      0.233090         0.983412        13.968207   \n",
       "3           0.366140      0.747182         0.403413         5.630882   \n",
       "4           0.706285      0.287008         0.884763        12.623972   \n",
       "\n",
       "   minkowski_score  \n",
       "0            0.215  \n",
       "1            0.417  \n",
       "2            0.435  \n",
       "3            0.181  \n",
       "4            0.395  "
      ]
     },
     "execution_count": 134,
     "metadata": {},
     "output_type": "execute_result"
    }
   ],
   "source": [
    "df.head()"
   ]
  },
  {
   "cell_type": "code",
   "execution_count": 204,
   "metadata": {},
   "outputs": [],
   "source": [
    "import numpy as np \n",
    "import pandas as pd\n",
    "import matplotlib.pyplot as plt\n",
    "import seaborn as sns\n",
    "from sklearn.preprocessing import MinMaxScaler\n",
    "from sklearn.model_selection import train_test_split\n",
    "from sklearn.pipeline import Pipeline\n",
    "from sklearn.linear_model import LinearRegression\n",
    "from sklearn.neighbors import KNeighborsClassifier\n",
    "from  sklearn.preprocessing  import PolynomialFeatures\n",
    "from  sklearn.linear_model import Ridge\n",
    "from sklearn.linear_model import Lasso\n",
    "from sklearn.svm import SVC, LinearSVC\n",
    "from sklearn.model_selection import GridSearchCV\n",
    "import datetime \n",
    "from sklearn.metrics import roc_auc_score\n",
    "from sklearn.linear_model import LogisticRegression\n",
    "from sklearn import tree"
   ]
  },
  {
   "cell_type": "code",
   "execution_count": 140,
   "metadata": {},
   "outputs": [],
   "source": [
    "# Final data to be feed to the models\n",
    "dffinal = df[['id','cosine_score','jscore','word_share_score','tfidf_score','euclidean_score',\n",
    "             'manhattan_score','minkowski_score','is_duplicate']]"
   ]
  },
  {
   "cell_type": "code",
   "execution_count": 207,
   "metadata": {},
   "outputs": [],
   "source": [
    "y = dffinal['is_duplicate']\n",
    "X = dffinal.drop(columns = ['is_duplicate'])"
   ]
  },
  {
   "cell_type": "code",
   "execution_count": 210,
   "metadata": {},
   "outputs": [],
   "source": [
    "X_train, X_test, y_train, y_test = train_test_split(X, y, shuffle=True,test_size=0.3,random_state= 30)"
   ]
  },
  {
   "cell_type": "code",
   "execution_count": 211,
   "metadata": {},
   "outputs": [
    {
     "data": {
      "text/plain": [
       "(141500, 6)"
      ]
     },
     "execution_count": 211,
     "metadata": {},
     "output_type": "execute_result"
    }
   ],
   "source": [
    "X_train.shape"
   ]
  },
  {
   "cell_type": "code",
   "execution_count": 212,
   "metadata": {},
   "outputs": [
    {
     "data": {
      "text/plain": [
       "(60644, 6)"
      ]
     },
     "execution_count": 212,
     "metadata": {},
     "output_type": "execute_result"
    }
   ],
   "source": [
    "X_test.shape"
   ]
  },
  {
   "cell_type": "markdown",
   "metadata": {},
   "source": [
    "# Logistic Regression Algorithm"
   ]
  },
  {
   "cell_type": "code",
   "execution_count": 433,
   "metadata": {},
   "outputs": [
    {
     "name": "stderr",
     "output_type": "stream",
     "text": [
      "C:\\Users\\barun\\Anaconda3\\lib\\site-packages\\sklearn\\linear_model\\logistic.py:433: FutureWarning: Default solver will be changed to 'lbfgs' in 0.22. Specify a solver to silence this warning.\n",
      "  FutureWarning)\n"
     ]
    },
    {
     "data": {
      "text/plain": [
       "LogisticRegression(C=0.1, class_weight=None, dual=False, fit_intercept=True,\n",
       "          intercept_scaling=1, max_iter=100, multi_class='warn',\n",
       "          n_jobs=None, penalty='l1', random_state=None, solver='warn',\n",
       "          tol=0.0001, verbose=0, warm_start=False)"
      ]
     },
     "execution_count": 433,
     "metadata": {},
     "output_type": "execute_result"
    }
   ],
   "source": [
    "from sklearn.linear_model import LogisticRegression\n",
    "classifier = LogisticRegression(penalty = 'l1', C = 0.1)\n",
    "parameters = dict(penalty=('l1','l2'),C =(0.01, 0.1, 1, 10, 100))\n",
    "classifier.fit(X_train, y_train.values.reshape((-1,)))"
   ]
  },
  {
   "cell_type": "code",
   "execution_count": 385,
   "metadata": {},
   "outputs": [
    {
     "name": "stderr",
     "output_type": "stream",
     "text": [
      "C:\\Users\\barun\\Anaconda3\\lib\\site-packages\\sklearn\\linear_model\\logistic.py:433: FutureWarning: Default solver will be changed to 'lbfgs' in 0.22. Specify a solver to silence this warning.\n",
      "  FutureWarning)\n"
     ]
    },
    {
     "name": "stdout",
     "output_type": "stream",
     "text": [
      "[0.66327208 0.62994346 0.66443816 0.62994346 0.66410601 0.62994346\n",
      " 0.66440989 0.62994346 0.66444523 0.62994346 0.66368905 0.62994346]\n",
      "{'C': 100, 'penalty': 'l1'}\n",
      "Test Accuracy Score: 0.67 \n"
     ]
    }
   ],
   "source": [
    "\"\"\"from sklearn.model_selection import GridSearchCV\n",
    "import time\n",
    "\n",
    "parameters = dict(penalty=('l1','l2'),C =(0.01, 0.1, 1, 10, 100, 1000))\n",
    "\n",
    "grid_search = GridSearchCV(estimator = classifier,\n",
    "                           param_grid = parameters,\n",
    "                           scoring = 'accuracy',\n",
    "                           cv = 5,\n",
    "                           n_jobs = -1)\n",
    "\n",
    "grid_train = grid_search.fit(X_train, y_train.values.reshape((-1,)))\n",
    "train_score = grid_train.cv_results_['mean_test_score']\n",
    "print(train_score)\n",
    "\n",
    "print(grid_train.best_params_)\n",
    "\n",
    "y_predict = grid_train.predict(X_test)\n",
    "\n",
    "print('Test Accuracy Score: %.2f '%metrics.accuracy_score(y_test, y_pred))\"\"\""
   ]
  },
  {
   "cell_type": "code",
   "execution_count": 434,
   "metadata": {},
   "outputs": [
    {
     "name": "stderr",
     "output_type": "stream",
     "text": [
      "C:\\Users\\barun\\Anaconda3\\lib\\site-packages\\sklearn\\linear_model\\logistic.py:433: FutureWarning: Default solver will be changed to 'lbfgs' in 0.22. Specify a solver to silence this warning.\n",
      "  FutureWarning)\n"
     ]
    },
    {
     "data": {
      "text/plain": [
       "LogisticRegression(C=100, class_weight=None, dual=False, fit_intercept=True,\n",
       "          intercept_scaling=1, max_iter=100, multi_class='warn',\n",
       "          n_jobs=None, penalty='l1', random_state=None, solver='warn',\n",
       "          tol=0.0001, verbose=0, warm_start=False)"
      ]
     },
     "execution_count": 434,
     "metadata": {},
     "output_type": "execute_result"
    }
   ],
   "source": [
    "from sklearn.linear_model import LogisticRegression\n",
    "classifier = LogisticRegression(penalty = 'l1', C = 100)\n",
    "parameters = dict(penalty=('l1','l2'),C =(0.01, 0.1, 1, 10, 100))\n",
    "classifier.fit(X_train, y_train.values.reshape((-1,)))"
   ]
  },
  {
   "cell_type": "code",
   "execution_count": 435,
   "metadata": {},
   "outputs": [
    {
     "data": {
      "text/plain": [
       "0.6632478068728975"
      ]
     },
     "execution_count": 435,
     "metadata": {},
     "output_type": "execute_result"
    }
   ],
   "source": [
    "y_pred = classifier.predict(X_test)\n",
    "classifier.score(X_test,y_test)"
   ]
  },
  {
   "cell_type": "code",
   "execution_count": 436,
   "metadata": {},
   "outputs": [
    {
     "name": "stdout",
     "output_type": "stream",
     "text": [
      "Accuracy: 0.6632478068728975\n",
      "Precision: 0.5519420884879261\n",
      "Recall: 0.45723875587379725\n",
      "F1 Score: 0.5001468572547484\n"
     ]
    }
   ],
   "source": [
    "from sklearn.metrics import confusion_matrix, accuracy_score, f1_score, precision_score, recall_score\n",
    "cm = confusion_matrix(y_test, y_pred)\n",
    "print('Accuracy: ' + str(accuracy_score(y_test, y_pred)))\n",
    "print('Precision: '+ str(precision_score(y_test, y_pred))) # tp / (tp + fp)\n",
    "print('Recall: ' + str(recall_score(y_test, y_pred))) # tp / (tp + fn)\n",
    "print(('F1 Score: ' + str(f1_score(y_test, y_pred))))"
   ]
  },
  {
   "cell_type": "code",
   "execution_count": 439,
   "metadata": {},
   "outputs": [
    {
     "name": "stdout",
     "output_type": "stream",
     "text": [
      "Test Data Accuracy: 0.6632\n"
     ]
    },
    {
     "data": {
      "image/png": "[encoded data removed]",
      "text/plain": [
       "<Figure size 720x504 with 2 Axes>"
      ]
     },
     "metadata": {},
     "output_type": "display_data"
    }
   ],
   "source": [
    "df_cm = pd.DataFrame(cm, index = (0, 1), columns = (0, 1))\n",
    "plt.figure(figsize = (10,7))\n",
    "sns.set(font_scale=1.4)\n",
    "sns.heatmap(df_cm, annot=True, fmt='g')\n",
    "print(\"Test Data Accuracy: %0.4f\" % accuracy_score(y_test, y_pred))"
   ]
  },
  {
   "cell_type": "code",
   "execution_count": 388,
   "metadata": {},
   "outputs": [
    {
     "name": "stdout",
     "output_type": "stream",
     "text": [
      "Test Accuracy Score: 0.67 \n"
     ]
    }
   ],
   "source": [
    "print('Test Accuracy Score: %.2f '%metrics.accuracy_score(y_test, y_pred))"
   ]
  },
  {
   "cell_type": "code",
   "execution_count": 214,
   "metadata": {},
   "outputs": [
    {
     "data": {
      "text/plain": [
       "0.6636435591319834"
      ]
     },
     "execution_count": 214,
     "metadata": {},
     "output_type": "execute_result"
    }
   ],
   "source": [
    "y_pred = classifier.predict(X_test)\n",
    "classifier.score(X_test,y_test)"
   ]
  },
  {
   "cell_type": "code",
   "execution_count": 437,
   "metadata": {},
   "outputs": [
    {
     "name": "stdout",
     "output_type": "stream",
     "text": [
      "0.6315381571136469\n"
     ]
    }
   ],
   "source": [
    "# calculate the percentage of ones\n",
    "# because y_test only contains ones and zeros, we can simply calculate the mean = percentage of ones\n",
    "y_test.mean()\n",
    "# calculate the percentage of zeros\n",
    "print(1 - y_test.mean())"
   ]
  },
  {
   "cell_type": "code",
   "execution_count": 438,
   "metadata": {},
   "outputs": [
    {
     "name": "stdout",
     "output_type": "stream",
     "text": [
      "[[30005  8294]\n",
      " [12128 10217]]\n"
     ]
    }
   ],
   "source": [
    "# save confusion matrix and slice into four pieces\n",
    "confusion = metrics.confusion_matrix(y_test, y_pred)\n",
    "print(confusion)\n",
    "#[row, column]\n",
    "TP = confusion[1, 1]\n",
    "TN = confusion[0, 0]\n",
    "FP = confusion[0, 1]\n",
    "FN = confusion[1, 0]"
   ]
  },
  {
   "cell_type": "code",
   "execution_count": 440,
   "metadata": {},
   "outputs": [
    {
     "name": "stdout",
     "output_type": "stream",
     "text": [
      "0.6632478068728975\n",
      "0.6632478068728975\n"
     ]
    }
   ],
   "source": [
    "# use float to perform true division, not integer division\n",
    "print((TP + TN) / float(TP + TN + FP + FN))\n",
    "print(metrics.accuracy_score(y_test, y_pred))"
   ]
  },
  {
   "cell_type": "code",
   "execution_count": 441,
   "metadata": {},
   "outputs": [
    {
     "name": "stdout",
     "output_type": "stream",
     "text": [
      "0.3367521931271024\n",
      "0.3367521931271025\n"
     ]
    }
   ],
   "source": [
    "classification_error = (FP + FN) / float(TP + TN + FP + FN)\n",
    "print(classification_error)\n",
    "print(1 - metrics.accuracy_score(y_test, y_pred))"
   ]
  },
  {
   "cell_type": "code",
   "execution_count": 442,
   "metadata": {},
   "outputs": [
    {
     "name": "stdout",
     "output_type": "stream",
     "text": [
      "0.45723875587379725\n",
      "0.45723875587379725\n"
     ]
    }
   ],
   "source": [
    "sensitivity = TP / float(FN + TP)\n",
    "print(sensitivity)\n",
    "print(metrics.recall_score(y_test, y_pred))"
   ]
  },
  {
   "cell_type": "code",
   "execution_count": 443,
   "metadata": {},
   "outputs": [
    {
     "name": "stdout",
     "output_type": "stream",
     "text": [
      "0.7834408209091621\n"
     ]
    }
   ],
   "source": [
    "specificity = TN / (TN + FP)\n",
    "print(specificity)"
   ]
  },
  {
   "cell_type": "code",
   "execution_count": 444,
   "metadata": {},
   "outputs": [
    {
     "name": "stdout",
     "output_type": "stream",
     "text": [
      "0.21655917909083788\n",
      "0.21655917909083788\n"
     ]
    }
   ],
   "source": [
    "false_positive_rate = FP / float(TN + FP)\n",
    "print(false_positive_rate)\n",
    "print(1 - specificity)"
   ]
  },
  {
   "cell_type": "code",
   "execution_count": 445,
   "metadata": {},
   "outputs": [
    {
     "name": "stdout",
     "output_type": "stream",
     "text": [
      "0.5519420884879261\n",
      "0.5519420884879261\n"
     ]
    }
   ],
   "source": [
    "precision = TP / float(TP + FP)\n",
    "print(precision)\n",
    "print(metrics.precision_score(y_test, y_pred))"
   ]
  },
  {
   "cell_type": "code",
   "execution_count": 446,
   "metadata": {},
   "outputs": [
    {
     "name": "stdout",
     "output_type": "stream",
     "text": [
      "              precision    recall  f1-score   support\n",
      "\n",
      "           0       0.71      0.78      0.75     38299\n",
      "           1       0.55      0.46      0.50     22345\n",
      "\n",
      "   micro avg       0.66      0.66      0.66     60644\n",
      "   macro avg       0.63      0.62      0.62     60644\n",
      "weighted avg       0.65      0.66      0.66     60644\n",
      "\n"
     ]
    }
   ],
   "source": [
    "from sklearn.metrics import classification_report\n",
    "print(classification_report(y_test, y_pred))"
   ]
  },
  {
   "cell_type": "markdown",
   "metadata": {},
   "source": [
    "# Random Forest Algorithm"
   ]
  },
  {
   "cell_type": "code",
   "execution_count": 401,
   "metadata": {},
   "outputs": [],
   "source": [
    "from sklearn.ensemble import RandomForestClassifier\n",
    "classifier_random = RandomForestClassifier(n_estimators=500, max_leaf_nodes=30, n_jobs=-1, random_state=42)\n",
    "parameters = dict(n_estimators = (100,200,300,400,500,800,1000), max_leaf_nodes = (10,15,20,25,30))"
   ]
  },
  {
   "cell_type": "code",
   "execution_count": 402,
   "metadata": {},
   "outputs": [
    {
     "name": "stdout",
     "output_type": "stream",
     "text": [
      "{'max_leaf_nodes': 30, 'n_estimators': 500}\n",
      "Test Accuracy Score: 0.66 \n"
     ]
    }
   ],
   "source": [
    "\"\"\"\"grid_search = GridSearchCV(estimator = classifier_random,\n",
    "                           param_grid = parameters,\n",
    "                           scoring = 'accuracy',\n",
    "                           cv = 5,\n",
    "                           n_jobs = -1)\n",
    "\n",
    "grid_train = grid_search.fit(X_train,y_train.values.reshape((-1,)))\n",
    "\n",
    "train_score = grid_train.cv_results_['mean_test_score']\n",
    "\n",
    "print(grid_train.best_params_)\n",
    "\n",
    "y_predict = grid_train.predict(X_test)\n",
    "print('Test Accuracy Score: %.2f '%metrics.accuracy_score(y_test, y_pred))\"\"\""
   ]
  },
  {
   "cell_type": "code",
   "execution_count": 404,
   "metadata": {},
   "outputs": [],
   "source": [
    "classifier_random = RandomForestClassifier(n_estimators=500, max_leaf_nodes=30, n_jobs=-1, random_state=42)"
   ]
  },
  {
   "cell_type": "code",
   "execution_count": 405,
   "metadata": {},
   "outputs": [
    {
     "data": {
      "text/plain": [
       "RandomForestClassifier(bootstrap=True, class_weight=None, criterion='gini',\n",
       "            max_depth=None, max_features='auto', max_leaf_nodes=30,\n",
       "            min_impurity_decrease=0.0, min_impurity_split=None,\n",
       "            min_samples_leaf=1, min_samples_split=2,\n",
       "            min_weight_fraction_leaf=0.0, n_estimators=500, n_jobs=-1,\n",
       "            oob_score=False, random_state=42, verbose=0, warm_start=False)"
      ]
     },
     "execution_count": 405,
     "metadata": {},
     "output_type": "execute_result"
    }
   ],
   "source": [
    "classifier_random.fit(X_train, y_train.values.reshape((-1,)))"
   ]
  },
  {
   "cell_type": "code",
   "execution_count": 406,
   "metadata": {},
   "outputs": [
    {
     "data": {
      "text/plain": [
       "0.6874546533869798"
      ]
     },
     "execution_count": 406,
     "metadata": {},
     "output_type": "execute_result"
    }
   ],
   "source": [
    "y_pred = classifier_random.predict(X_test)\n",
    "classifier_random.score(X_test,y_test)"
   ]
  },
  {
   "cell_type": "code",
   "execution_count": 407,
   "metadata": {},
   "outputs": [
    {
     "name": "stdout",
     "output_type": "stream",
     "text": [
      "Accuracy: 0.6874546533869798\n",
      "Precision: 0.5863157358855572\n",
      "Recall: 0.5154173193108078\n",
      "F1 Score: 0.5485853100885968\n"
     ]
    }
   ],
   "source": [
    "from sklearn.metrics import confusion_matrix, accuracy_score, f1_score, precision_score, recall_score\n",
    "cm = confusion_matrix(y_test, y_pred)\n",
    "print('Accuracy: ' + str(accuracy_score(y_test, y_pred)))\n",
    "print('Precision: '+ str(precision_score(y_test, y_pred))) # tp / (tp + fp)\n",
    "print('Recall: ' + str(recall_score(y_test, y_pred))) # tp / (tp + fn)\n",
    "print(('F1 Score: ' + str(f1_score(y_test, y_pred))))"
   ]
  },
  {
   "cell_type": "code",
   "execution_count": 408,
   "metadata": {},
   "outputs": [
    {
     "name": "stdout",
     "output_type": "stream",
     "text": [
      "Test Data Accuracy: 0.6875\n"
     ]
    },
    {
     "data": {
      "image/png": "[encoded data removed]",
      "text/plain": [
       "<Figure size 720x504 with 2 Axes>"
      ]
     },
     "metadata": {},
     "output_type": "display_data"
    }
   ],
   "source": [
    "df_cm = pd.DataFrame(cm, index = (0, 1), columns = (0, 1))\n",
    "plt.figure(figsize = (10,7))\n",
    "sns.set(font_scale=1.4)\n",
    "sns.heatmap(df_cm, annot=True, fmt='g')\n",
    "print(\"Test Data Accuracy: %0.4f\" % accuracy_score(y_test, y_pred))"
   ]
  },
  {
   "cell_type": "code",
   "execution_count": 409,
   "metadata": {},
   "outputs": [
    {
     "name": "stdout",
     "output_type": "stream",
     "text": [
      "0.6874546533869798\n"
     ]
    }
   ],
   "source": [
    "# calculate accuracy\n",
    "from sklearn import metrics\n",
    "print(metrics.accuracy_score(y_test, y_pred))"
   ]
  },
  {
   "cell_type": "code",
   "execution_count": 410,
   "metadata": {},
   "outputs": [
    {
     "name": "stdout",
     "output_type": "stream",
     "text": [
      "0.6315381571136469\n"
     ]
    }
   ],
   "source": [
    "# calculate the percentage of ones\n",
    "# because y_test only contains ones and zeros, we can simply calculate the mean = percentage of ones\n",
    "y_test.mean()\n",
    "# calculate the percentage of zeros\n",
    "print(1 - y_test.mean())"
   ]
  },
  {
   "cell_type": "code",
   "execution_count": 411,
   "metadata": {},
   "outputs": [
    {
     "name": "stdout",
     "output_type": "stream",
     "text": [
      "[[30173  8126]\n",
      " [10828 11517]]\n"
     ]
    }
   ],
   "source": [
    "# save confusion matrix and slice into four pieces\n",
    "confusion = metrics.confusion_matrix(y_test, y_pred)\n",
    "print(confusion)\n",
    "#[row, column]\n",
    "TP = confusion[1, 1]\n",
    "TN = confusion[0, 0]\n",
    "FP = confusion[0, 1]\n",
    "FN = confusion[1, 0]"
   ]
  },
  {
   "cell_type": "markdown",
   "metadata": {},
   "source": [
    "Classification Accuracy: Overall, how often is the classifier correct?"
   ]
  },
  {
   "cell_type": "code",
   "execution_count": 412,
   "metadata": {},
   "outputs": [
    {
     "name": "stdout",
     "output_type": "stream",
     "text": [
      "0.6874546533869798\n",
      "0.6874546533869798\n"
     ]
    }
   ],
   "source": [
    "# use float to perform true division, not integer division\n",
    "print((TP + TN) / float(TP + TN + FP + FN))\n",
    "print(metrics.accuracy_score(y_test, y_pred))"
   ]
  },
  {
   "cell_type": "markdown",
   "metadata": {},
   "source": [
    "Classification Error/Misclassification Rate : Overall, how often is the classifier incorrect?"
   ]
  },
  {
   "cell_type": "code",
   "execution_count": 413,
   "metadata": {},
   "outputs": [
    {
     "name": "stdout",
     "output_type": "stream",
     "text": [
      "0.31254534661302025\n",
      "0.31254534661302025\n"
     ]
    }
   ],
   "source": [
    "classification_error = (FP + FN) / float(TP + TN + FP + FN)\n",
    "print(classification_error)\n",
    "print(1 - metrics.accuracy_score(y_test, y_pred))"
   ]
  },
  {
   "cell_type": "markdown",
   "metadata": {},
   "source": [
    "Sensitivity: When the actual value is positive, how often is the prediction correct?"
   ]
  },
  {
   "cell_type": "code",
   "execution_count": 414,
   "metadata": {},
   "outputs": [
    {
     "name": "stdout",
     "output_type": "stream",
     "text": [
      "0.5154173193108078\n",
      "0.5154173193108078\n"
     ]
    }
   ],
   "source": [
    "sensitivity = TP / float(FN + TP)\n",
    "print(sensitivity)\n",
    "print(metrics.recall_score(y_test, y_pred))"
   ]
  },
  {
   "cell_type": "markdown",
   "metadata": {},
   "source": [
    "Specificity: When the actual value is negative, how often is the prediction correct?"
   ]
  },
  {
   "cell_type": "code",
   "execution_count": 415,
   "metadata": {},
   "outputs": [
    {
     "name": "stdout",
     "output_type": "stream",
     "text": [
      "0.7878273584166688\n"
     ]
    }
   ],
   "source": [
    "specificity = TN / (TN + FP)\n",
    "print(specificity)"
   ]
  },
  {
   "cell_type": "markdown",
   "metadata": {},
   "source": [
    "False Positive Rate: When the actual value is negative, how often is the prediction incorrect?"
   ]
  },
  {
   "cell_type": "code",
   "execution_count": 416,
   "metadata": {},
   "outputs": [
    {
     "name": "stdout",
     "output_type": "stream",
     "text": [
      "0.21217264158333116\n",
      "0.21217264158333116\n"
     ]
    }
   ],
   "source": [
    "false_positive_rate = FP / float(TN + FP)\n",
    "print(false_positive_rate)\n",
    "print(1 - specificity)"
   ]
  },
  {
   "cell_type": "markdown",
   "metadata": {},
   "source": [
    "Precision: When a positive value is predicted, how often is the prediction correct?"
   ]
  },
  {
   "cell_type": "code",
   "execution_count": 417,
   "metadata": {},
   "outputs": [
    {
     "name": "stdout",
     "output_type": "stream",
     "text": [
      "0.5863157358855572\n",
      "0.5863157358855572\n"
     ]
    }
   ],
   "source": [
    "precision = TP / float(TP + FP)\n",
    "print(precision)\n",
    "print(metrics.precision_score(y_test, y_pred))"
   ]
  },
  {
   "cell_type": "code",
   "execution_count": 418,
   "metadata": {},
   "outputs": [
    {
     "name": "stdout",
     "output_type": "stream",
     "text": [
      "              precision    recall  f1-score   support\n",
      "\n",
      "           0       0.74      0.79      0.76     38299\n",
      "           1       0.59      0.52      0.55     22345\n",
      "\n",
      "   micro avg       0.69      0.69      0.69     60644\n",
      "   macro avg       0.66      0.65      0.65     60644\n",
      "weighted avg       0.68      0.69      0.68     60644\n",
      "\n"
     ]
    }
   ],
   "source": [
    "from sklearn.metrics import classification_report\n",
    "print(classification_report(y_test, y_pred))"
   ]
  },
  {
   "cell_type": "markdown",
   "metadata": {},
   "source": [
    "# XGBOOST ALGORITHM"
   ]
  },
  {
   "cell_type": "code",
   "execution_count": 419,
   "metadata": {},
   "outputs": [
    {
     "name": "stderr",
     "output_type": "stream",
     "text": [
      "C:\\Users\\barun\\Anaconda3\\lib\\site-packages\\xgboost\\core.py:587: FutureWarning: Series.base is deprecated and will be removed in a future version\n",
      "  if getattr(data, 'base', None) is not None and \\\n"
     ]
    }
   ],
   "source": [
    "import xgboost as xgb\n",
    "\n",
    "dtrain = xgb.DMatrix(X_train, label=y_train)\n",
    "dtest = xgb.DMatrix(X_test, label=y_test)"
   ]
  },
  {
   "cell_type": "code",
   "execution_count": 420,
   "metadata": {},
   "outputs": [],
   "source": [
    "param = {\n",
    "    'max_depth': 8,  # the maximum depth of each tree\n",
    "    'eta': 0.05,  # the training step for each iteration\n",
    "    'silent': 1,  # logging mode - quiet\n",
    "    'objective': 'multi:softprob',  # error evaluation for multiclass training\n",
    "    'num_class': 2} \n",
    "\n",
    "num_round = 50"
   ]
  },
  {
   "cell_type": "code",
   "execution_count": 421,
   "metadata": {},
   "outputs": [],
   "source": [
    "bst = xgb.train(param, dtrain, num_round)"
   ]
  },
  {
   "cell_type": "code",
   "execution_count": 422,
   "metadata": {},
   "outputs": [],
   "source": [
    "import numpy as np\n",
    "preds = bst.predict(dtest)\n",
    "y_pred = np.asarray([np.argmax(line) for line in preds])"
   ]
  },
  {
   "cell_type": "code",
   "execution_count": 423,
   "metadata": {},
   "outputs": [
    {
     "name": "stdout",
     "output_type": "stream",
     "text": [
      "Accuracy: 0.6952707605039246\n",
      "Precision: 0.5745189526857671\n",
      "Recall: 0.6667710897292459\n",
      "F1 Score: 0.617216951820705\n"
     ]
    }
   ],
   "source": [
    "from sklearn.metrics import confusion_matrix, accuracy_score, f1_score, precision_score, recall_score\n",
    "cm = confusion_matrix(y_test, y_pred)\n",
    "print('Accuracy: ' + str(accuracy_score(y_test, y_pred)))\n",
    "print('Precision: '+ str(precision_score(y_test, y_pred))) # tp / (tp + fp)\n",
    "print('Recall: ' + str(recall_score(y_test, y_pred))) # tp / (tp + fn)\n",
    "print(('F1 Score: ' + str(f1_score(y_test, y_pred))))"
   ]
  },
  {
   "cell_type": "code",
   "execution_count": 424,
   "metadata": {},
   "outputs": [
    {
     "name": "stdout",
     "output_type": "stream",
     "text": [
      "Test Data Accuracy: 0.6953\n"
     ]
    },
    {
     "data": {
      "image/png": "[encoded data removed]",
      "text/plain": [
       "<Figure size 720x504 with 2 Axes>"
      ]
     },
     "metadata": {},
     "output_type": "display_data"
    }
   ],
   "source": [
    "df_cm = pd.DataFrame(cm, index = (0, 1), columns = (0, 1))\n",
    "plt.figure(figsize = (10,7))\n",
    "sns.set(font_scale=1.4)\n",
    "sns.heatmap(df_cm, annot=True, fmt='g')\n",
    "print(\"Test Data Accuracy: %0.4f\" % accuracy_score(y_test, y_pred))"
   ]
  },
  {
   "cell_type": "code",
   "execution_count": 425,
   "metadata": {},
   "outputs": [
    {
     "name": "stdout",
     "output_type": "stream",
     "text": [
      "[[27265 11034]\n",
      " [ 7446 14899]]\n"
     ]
    }
   ],
   "source": [
    "# save confusion matrix and slice into four pieces\n",
    "confusion = metrics.confusion_matrix(y_test, y_pred)\n",
    "print(confusion)\n",
    "#[row, column]\n",
    "TP = confusion[1, 1]\n",
    "TN = confusion[0, 0]\n",
    "FP = confusion[0, 1]\n",
    "FN = confusion[1, 0]"
   ]
  },
  {
   "cell_type": "markdown",
   "metadata": {},
   "source": [
    "Classification Accuracy: Overall, how often is the classifier correct?"
   ]
  },
  {
   "cell_type": "code",
   "execution_count": 426,
   "metadata": {},
   "outputs": [
    {
     "name": "stdout",
     "output_type": "stream",
     "text": [
      "0.6952707605039246\n",
      "0.6952707605039246\n"
     ]
    }
   ],
   "source": [
    "# use float to perform true division, not integer division\n",
    "print((TP + TN) / float(TP + TN + FP + FN))\n",
    "print(metrics.accuracy_score(y_test, y_pred))"
   ]
  },
  {
   "cell_type": "markdown",
   "metadata": {},
   "source": [
    "Classification Error/Misclassification Rate : Overall, how often is the classifier incorrect?"
   ]
  },
  {
   "cell_type": "code",
   "execution_count": 427,
   "metadata": {},
   "outputs": [
    {
     "name": "stdout",
     "output_type": "stream",
     "text": [
      "0.30472923949607544\n",
      "0.30472923949607544\n"
     ]
    }
   ],
   "source": [
    "classification_error = (FP + FN) / float(TP + TN + FP + FN)\n",
    "print(classification_error)\n",
    "print(1 - metrics.accuracy_score(y_test, y_pred))"
   ]
  },
  {
   "cell_type": "markdown",
   "metadata": {},
   "source": [
    "Sensitivity: When the actual value is positive, how often is the prediction correct?"
   ]
  },
  {
   "cell_type": "code",
   "execution_count": 428,
   "metadata": {},
   "outputs": [
    {
     "name": "stdout",
     "output_type": "stream",
     "text": [
      "0.6667710897292459\n",
      "0.6667710897292459\n"
     ]
    }
   ],
   "source": [
    "sensitivity = TP / float(FN + TP)\n",
    "print(sensitivity)\n",
    "print(metrics.recall_score(y_test, y_pred))"
   ]
  },
  {
   "cell_type": "markdown",
   "metadata": {},
   "source": [
    "Specificity: When the actual value is negative, how often is the prediction correct?"
   ]
  },
  {
   "cell_type": "code",
   "execution_count": 429,
   "metadata": {},
   "outputs": [
    {
     "name": "stdout",
     "output_type": "stream",
     "text": [
      "0.711898482989112\n"
     ]
    }
   ],
   "source": [
    "specificity = TN / (TN + FP)\n",
    "print(specificity)"
   ]
  },
  {
   "cell_type": "markdown",
   "metadata": {},
   "source": [
    "False Positive Rate: When the actual value is negative, how often is the prediction incorrect?\n"
   ]
  },
  {
   "cell_type": "code",
   "execution_count": 430,
   "metadata": {},
   "outputs": [
    {
     "name": "stdout",
     "output_type": "stream",
     "text": [
      "0.288101517010888\n",
      "0.28810151701088804\n"
     ]
    }
   ],
   "source": [
    "false_positive_rate = FP / float(TN + FP)\n",
    "print(false_positive_rate)\n",
    "print(1 - specificity)"
   ]
  },
  {
   "cell_type": "markdown",
   "metadata": {},
   "source": [
    "Precision: When a positive value is predicted, how often is the prediction correct?"
   ]
  },
  {
   "cell_type": "code",
   "execution_count": 431,
   "metadata": {},
   "outputs": [
    {
     "name": "stdout",
     "output_type": "stream",
     "text": [
      "0.5745189526857671\n",
      "0.5745189526857671\n"
     ]
    }
   ],
   "source": [
    "precision = TP / float(TP + FP)\n",
    "print(precision)\n",
    "print(metrics.precision_score(y_test, y_pred))"
   ]
  },
  {
   "cell_type": "code",
   "execution_count": 432,
   "metadata": {},
   "outputs": [
    {
     "name": "stdout",
     "output_type": "stream",
     "text": [
      "              precision    recall  f1-score   support\n",
      "\n",
      "           0       0.79      0.71      0.75     38299\n",
      "           1       0.57      0.67      0.62     22345\n",
      "\n",
      "   micro avg       0.70      0.70      0.70     60644\n",
      "   macro avg       0.68      0.69      0.68     60644\n",
      "weighted avg       0.71      0.70      0.70     60644\n",
      "\n"
     ]
    }
   ],
   "source": [
    "from sklearn.metrics import classification_report\n",
    "print(classification_report(y_test, y_pred))"
   ]
  },
  {
   "cell_type": "markdown",
   "metadata": {},
   "source": [
    "# MaLSTM Model"
   ]
  },
  {
   "cell_type": "markdown",
   "metadata": {},
   "source": [
    "MaLSTM Architecture :"
   ]
  },
  {
   "cell_type": "markdown",
   "metadata": {},
   "source": [
    "<img src=\"MaLSTM Architecture.jpg\">"
   ]
  },
  {
   "cell_type": "markdown",
   "metadata": {},
   "source": [
    "<img src=\"MaLSTM Output.jpg\">"
   ]
  },
  {
   "cell_type": "markdown",
   "metadata": {},
   "source": [
    "MaLSTM Accuracy : around 80%"
   ]
  },
  {
   "cell_type": "markdown",
   "metadata": {},
   "source": [
    "# Conclusion"
   ]
  },
  {
   "cell_type": "markdown",
   "metadata": {},
   "source": [
    "MaLSTM Model gives the best accuracy among all the models used.But we need to understand better the business objective of solving this problem so that the correct measure to evaluate the model peformance can be concluded."
   ]
  }
 ],
 "metadata": {
  "kernelspec": {
   "display_name": "Python 3",
   "language": "python",
   "name": "python3"
  },
  "language_info": {
   "codemirror_mode": {
    "name": "ipython",
    "version": 3
   },
   "file_extension": ".py",
   "mimetype": "text/x-python",
   "name": "python",
   "nbconvert_exporter": "python",
   "pygments_lexer": "ipython3",
   "version": "3.7.1"
  }
 },
 "nbformat": 4,
 "nbformat_minor": 2
}
